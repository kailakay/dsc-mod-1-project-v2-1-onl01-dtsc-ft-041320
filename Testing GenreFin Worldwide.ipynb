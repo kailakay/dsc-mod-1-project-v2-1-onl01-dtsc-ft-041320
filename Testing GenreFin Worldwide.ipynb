{
 "cells": [
  {
   "cell_type": "code",
   "execution_count": 27,
   "metadata": {},
   "outputs": [],
   "source": [
    "import pandas as pd\n",
    "import matplotlib.pyplot as plt\n",
    "import seaborn as sns\n",
    "\n",
    "%matplotlib inline"
   ]
  },
  {
   "cell_type": "code",
   "execution_count": 22,
   "metadata": {},
   "outputs": [
    {
     "data": {
      "text/plain": [
       "<module 'functions' from 'C:\\\\Users\\\\kekay\\\\flatiron\\\\Module01\\\\Project\\\\dsc-mod-1-project-v2-1-onl01-dtsc-ft-041320\\\\functions.py'>"
      ]
     },
     "execution_count": 22,
     "metadata": {},
     "output_type": "execute_result"
    }
   ],
   "source": [
    "from importlib import reload\n",
    "import functions as fun\n",
    "\n",
    "reload(fun)"
   ]
  },
  {
   "cell_type": "code",
   "execution_count": 4,
   "metadata": {},
   "outputs": [],
   "source": [
    "%store -r dfGenreFin"
   ]
  },
  {
   "cell_type": "code",
   "execution_count": 7,
   "metadata": {},
   "outputs": [
    {
     "data": {
      "text/html": [
       "<div>\n",
       "<style scoped>\n",
       "    .dataframe tbody tr th:only-of-type {\n",
       "        vertical-align: middle;\n",
       "    }\n",
       "\n",
       "    .dataframe tbody tr th {\n",
       "        vertical-align: top;\n",
       "    }\n",
       "\n",
       "    .dataframe thead th {\n",
       "        text-align: right;\n",
       "    }\n",
       "</style>\n",
       "<table border=\"1\" class=\"dataframe\">\n",
       "  <thead>\n",
       "    <tr style=\"text-align: right;\">\n",
       "      <th></th>\n",
       "      <th>title</th>\n",
       "      <th>studio</th>\n",
       "      <th>domestic_gross</th>\n",
       "      <th>foreign_gross</th>\n",
       "      <th>year</th>\n",
       "      <th>release_date</th>\n",
       "      <th>production_budget</th>\n",
       "      <th>worldwide_gross</th>\n",
       "      <th>original_title</th>\n",
       "      <th>start_year</th>\n",
       "      <th>runtime_minutes</th>\n",
       "      <th>averagerating</th>\n",
       "      <th>numvotes</th>\n",
       "      <th>movie_id</th>\n",
       "      <th>genresList</th>\n",
       "    </tr>\n",
       "  </thead>\n",
       "  <tbody>\n",
       "    <tr>\n",
       "      <th>0</th>\n",
       "      <td>'71</td>\n",
       "      <td>RAtt.</td>\n",
       "      <td>1300000.0</td>\n",
       "      <td>355000.0</td>\n",
       "      <td>2015.0</td>\n",
       "      <td>NaN</td>\n",
       "      <td>0.0</td>\n",
       "      <td>1655000.0</td>\n",
       "      <td>'71</td>\n",
       "      <td>2014.0</td>\n",
       "      <td>99.0</td>\n",
       "      <td>7.2</td>\n",
       "      <td>46103.0</td>\n",
       "      <td>tt2614684</td>\n",
       "      <td>[Action, Drama, Thriller]</td>\n",
       "    </tr>\n",
       "    <tr>\n",
       "      <th>1</th>\n",
       "      <td>1,000 Times Good Night</td>\n",
       "      <td>FM</td>\n",
       "      <td>53900.0</td>\n",
       "      <td>0.0</td>\n",
       "      <td>2014.0</td>\n",
       "      <td>NaN</td>\n",
       "      <td>0.0</td>\n",
       "      <td>53900.0</td>\n",
       "      <td>Tusen ganger god natt</td>\n",
       "      <td>2013.0</td>\n",
       "      <td>117.0</td>\n",
       "      <td>7.1</td>\n",
       "      <td>6848.0</td>\n",
       "      <td>tt2353767</td>\n",
       "      <td>[Drama, War]</td>\n",
       "    </tr>\n",
       "    <tr>\n",
       "      <th>2</th>\n",
       "      <td>10 Cloverfield Lane</td>\n",
       "      <td>Par.</td>\n",
       "      <td>72100000.0</td>\n",
       "      <td>38100000.0</td>\n",
       "      <td>2016.0</td>\n",
       "      <td>Mar 11, 2016</td>\n",
       "      <td>5000000.0</td>\n",
       "      <td>108286422.0</td>\n",
       "      <td>10 Cloverfield Lane</td>\n",
       "      <td>2016.0</td>\n",
       "      <td>103.0</td>\n",
       "      <td>7.2</td>\n",
       "      <td>260383.0</td>\n",
       "      <td>tt1179933</td>\n",
       "      <td>[Drama, Horror, Mystery]</td>\n",
       "    </tr>\n",
       "    <tr>\n",
       "      <th>3</th>\n",
       "      <td>10 Days in a Madhouse</td>\n",
       "      <td>NaN</td>\n",
       "      <td>14616.0</td>\n",
       "      <td>0.0</td>\n",
       "      <td>NaN</td>\n",
       "      <td>Nov 11, 2015</td>\n",
       "      <td>12000000.0</td>\n",
       "      <td>14616.0</td>\n",
       "      <td>10 Days in a Madhouse</td>\n",
       "      <td>2015.0</td>\n",
       "      <td>111.0</td>\n",
       "      <td>6.7</td>\n",
       "      <td>1114.0</td>\n",
       "      <td>tt3453052</td>\n",
       "      <td>[Drama]</td>\n",
       "    </tr>\n",
       "    <tr>\n",
       "      <th>4</th>\n",
       "      <td>10 Years</td>\n",
       "      <td>Anch.</td>\n",
       "      <td>203000.0</td>\n",
       "      <td>0.0</td>\n",
       "      <td>2012.0</td>\n",
       "      <td>NaN</td>\n",
       "      <td>0.0</td>\n",
       "      <td>203000.0</td>\n",
       "      <td>10 Years</td>\n",
       "      <td>2011.0</td>\n",
       "      <td>100.0</td>\n",
       "      <td>6.1</td>\n",
       "      <td>22484.0</td>\n",
       "      <td>tt1715873</td>\n",
       "      <td>[Comedy, Drama, Romance]</td>\n",
       "    </tr>\n",
       "  </tbody>\n",
       "</table>\n",
       "</div>"
      ],
      "text/plain": [
       "                    title studio  domestic_gross  foreign_gross    year  \\\n",
       "0                     '71  RAtt.       1300000.0       355000.0  2015.0   \n",
       "1  1,000 Times Good Night     FM         53900.0            0.0  2014.0   \n",
       "2     10 Cloverfield Lane   Par.      72100000.0     38100000.0  2016.0   \n",
       "3   10 Days in a Madhouse    NaN         14616.0            0.0     NaN   \n",
       "4                10 Years  Anch.        203000.0            0.0  2012.0   \n",
       "\n",
       "   release_date  production_budget  worldwide_gross         original_title  \\\n",
       "0           NaN                0.0        1655000.0                    '71   \n",
       "1           NaN                0.0          53900.0  Tusen ganger god natt   \n",
       "2  Mar 11, 2016          5000000.0      108286422.0    10 Cloverfield Lane   \n",
       "3  Nov 11, 2015         12000000.0          14616.0  10 Days in a Madhouse   \n",
       "4           NaN                0.0         203000.0               10 Years   \n",
       "\n",
       "   start_year  runtime_minutes  averagerating  numvotes   movie_id  \\\n",
       "0      2014.0             99.0            7.2   46103.0  tt2614684   \n",
       "1      2013.0            117.0            7.1    6848.0  tt2353767   \n",
       "2      2016.0            103.0            7.2  260383.0  tt1179933   \n",
       "3      2015.0            111.0            6.7    1114.0  tt3453052   \n",
       "4      2011.0            100.0            6.1   22484.0  tt1715873   \n",
       "\n",
       "                  genresList  \n",
       "0  [Action, Drama, Thriller]  \n",
       "1               [Drama, War]  \n",
       "2   [Drama, Horror, Mystery]  \n",
       "3                    [Drama]  \n",
       "4   [Comedy, Drama, Romance]  "
      ]
     },
     "execution_count": 7,
     "metadata": {},
     "output_type": "execute_result"
    }
   ],
   "source": [
    "dfGenreFin.rename(columns = {'index' : 'title'}, inplace = True)\n",
    "dfGenreFin.head()"
   ]
  },
  {
   "cell_type": "code",
   "execution_count": 13,
   "metadata": {},
   "outputs": [],
   "source": [
    "%store -r genreList"
   ]
  },
  {
   "cell_type": "code",
   "execution_count": 14,
   "metadata": {},
   "outputs": [
    {
     "data": {
      "text/plain": [
       "['Action',\n",
       " 'Adventure',\n",
       " 'Animation',\n",
       " 'Biography',\n",
       " 'Comedy',\n",
       " 'Crime',\n",
       " 'Documentary',\n",
       " 'Drama',\n",
       " 'Family',\n",
       " 'Fantasy',\n",
       " 'History',\n",
       " 'Horror',\n",
       " 'Music',\n",
       " 'Musical',\n",
       " 'Mystery',\n",
       " 'Romance',\n",
       " 'Sci-Fi',\n",
       " 'Sport',\n",
       " 'Thriller',\n",
       " 'War',\n",
       " 'Western']"
      ]
     },
     "execution_count": 14,
     "metadata": {},
     "output_type": "execute_result"
    }
   ],
   "source": [
    "genreList"
   ]
  },
  {
   "cell_type": "markdown",
   "metadata": {},
   "source": [
    "# Mean Gross Worldwide"
   ]
  },
  {
   "cell_type": "code",
   "execution_count": 23,
   "metadata": {},
   "outputs": [],
   "source": [
    "wwMeanGross= fun.getMeanGrossWW(genreList, dfGenreFin)"
   ]
  },
  {
   "cell_type": "code",
   "execution_count": 25,
   "metadata": {},
   "outputs": [
    {
     "data": {
      "text/html": [
       "<div>\n",
       "<style scoped>\n",
       "    .dataframe tbody tr th:only-of-type {\n",
       "        vertical-align: middle;\n",
       "    }\n",
       "\n",
       "    .dataframe tbody tr th {\n",
       "        vertical-align: top;\n",
       "    }\n",
       "\n",
       "    .dataframe thead th {\n",
       "        text-align: right;\n",
       "    }\n",
       "</style>\n",
       "<table border=\"1\" class=\"dataframe\">\n",
       "  <thead>\n",
       "    <tr style=\"text-align: right;\">\n",
       "      <th></th>\n",
       "      <th>Genre</th>\n",
       "      <th>Mean Gross</th>\n",
       "    </tr>\n",
       "  </thead>\n",
       "  <tbody>\n",
       "    <tr>\n",
       "      <th>0</th>\n",
       "      <td>Action</td>\n",
       "      <td>1.490589e+08</td>\n",
       "    </tr>\n",
       "    <tr>\n",
       "      <th>1</th>\n",
       "      <td>Adventure</td>\n",
       "      <td>2.498355e+08</td>\n",
       "    </tr>\n",
       "    <tr>\n",
       "      <th>2</th>\n",
       "      <td>Animation</td>\n",
       "      <td>2.299004e+08</td>\n",
       "    </tr>\n",
       "    <tr>\n",
       "      <th>3</th>\n",
       "      <td>Biography</td>\n",
       "      <td>4.631549e+07</td>\n",
       "    </tr>\n",
       "    <tr>\n",
       "      <th>4</th>\n",
       "      <td>Comedy</td>\n",
       "      <td>7.755400e+07</td>\n",
       "    </tr>\n",
       "    <tr>\n",
       "      <th>5</th>\n",
       "      <td>Crime</td>\n",
       "      <td>5.186007e+07</td>\n",
       "    </tr>\n",
       "    <tr>\n",
       "      <th>6</th>\n",
       "      <td>Documentary</td>\n",
       "      <td>4.849411e+07</td>\n",
       "    </tr>\n",
       "    <tr>\n",
       "      <th>7</th>\n",
       "      <td>Drama</td>\n",
       "      <td>4.334821e+07</td>\n",
       "    </tr>\n",
       "    <tr>\n",
       "      <th>8</th>\n",
       "      <td>Family</td>\n",
       "      <td>1.412748e+08</td>\n",
       "    </tr>\n",
       "    <tr>\n",
       "      <th>9</th>\n",
       "      <td>Fantasy</td>\n",
       "      <td>1.813246e+08</td>\n",
       "    </tr>\n",
       "    <tr>\n",
       "      <th>10</th>\n",
       "      <td>History</td>\n",
       "      <td>4.316130e+07</td>\n",
       "    </tr>\n",
       "    <tr>\n",
       "      <th>11</th>\n",
       "      <td>Horror</td>\n",
       "      <td>6.163434e+07</td>\n",
       "    </tr>\n",
       "    <tr>\n",
       "      <th>12</th>\n",
       "      <td>Music</td>\n",
       "      <td>7.931307e+07</td>\n",
       "    </tr>\n",
       "    <tr>\n",
       "      <th>13</th>\n",
       "      <td>Musical</td>\n",
       "      <td>1.864423e+08</td>\n",
       "    </tr>\n",
       "    <tr>\n",
       "      <th>14</th>\n",
       "      <td>Mystery</td>\n",
       "      <td>5.680923e+07</td>\n",
       "    </tr>\n",
       "    <tr>\n",
       "      <th>15</th>\n",
       "      <td>Romance</td>\n",
       "      <td>3.935348e+07</td>\n",
       "    </tr>\n",
       "    <tr>\n",
       "      <th>16</th>\n",
       "      <td>Sci-Fi</td>\n",
       "      <td>2.210336e+08</td>\n",
       "    </tr>\n",
       "    <tr>\n",
       "      <th>17</th>\n",
       "      <td>Sport</td>\n",
       "      <td>5.737999e+07</td>\n",
       "    </tr>\n",
       "    <tr>\n",
       "      <th>18</th>\n",
       "      <td>Thriller</td>\n",
       "      <td>6.945196e+07</td>\n",
       "    </tr>\n",
       "    <tr>\n",
       "      <th>19</th>\n",
       "      <td>War</td>\n",
       "      <td>3.612428e+07</td>\n",
       "    </tr>\n",
       "    <tr>\n",
       "      <th>20</th>\n",
       "      <td>Western</td>\n",
       "      <td>4.991789e+07</td>\n",
       "    </tr>\n",
       "  </tbody>\n",
       "</table>\n",
       "</div>"
      ],
      "text/plain": [
       "          Genre    Mean Gross\n",
       "0        Action  1.490589e+08\n",
       "1     Adventure  2.498355e+08\n",
       "2     Animation  2.299004e+08\n",
       "3     Biography  4.631549e+07\n",
       "4        Comedy  7.755400e+07\n",
       "5         Crime  5.186007e+07\n",
       "6   Documentary  4.849411e+07\n",
       "7         Drama  4.334821e+07\n",
       "8        Family  1.412748e+08\n",
       "9       Fantasy  1.813246e+08\n",
       "10      History  4.316130e+07\n",
       "11       Horror  6.163434e+07\n",
       "12        Music  7.931307e+07\n",
       "13      Musical  1.864423e+08\n",
       "14      Mystery  5.680923e+07\n",
       "15      Romance  3.935348e+07\n",
       "16       Sci-Fi  2.210336e+08\n",
       "17        Sport  5.737999e+07\n",
       "18     Thriller  6.945196e+07\n",
       "19          War  3.612428e+07\n",
       "20      Western  4.991789e+07"
      ]
     },
     "execution_count": 25,
     "metadata": {},
     "output_type": "execute_result"
    }
   ],
   "source": [
    "wwGrossData = pd.DataFrame({'Genre' : genreList,\n",
    "                            'Mean Gross' : wwMeanGross})\n",
    "wwGrossData"
   ]
  },
  {
   "cell_type": "code",
   "execution_count": 28,
   "metadata": {},
   "outputs": [
    {
     "data": {
      "image/png": "[encoded data removed]",
      "text/plain": [
       "<Figure size 360x360 with 1 Axes>"
      ]
     },
     "metadata": {
      "needs_background": "light"
     },
     "output_type": "display_data"
    }
   ],
   "source": [
    "g = sns.catplot(x=\"Genre\", y=\"Mean Gross\", kind=\"bar\", palette=\"ch:.25\", data= wwGrossData);\n",
    "g.set_xticklabels(rotation = 90)\n",
    "#plt.set_title(\"Mean Gross by Genre\")\n",
    "plt.show()"
   ]
  },
  {
   "cell_type": "code",
   "execution_count": 34,
   "metadata": {},
   "outputs": [],
   "source": [
    "top5GrossingGenres = wwGrossData.loc[wwGrossData['Mean Gross'] >= wwGrossData['Mean Gross'][0]]"
   ]
  },
  {
   "cell_type": "code",
   "execution_count": 35,
   "metadata": {},
   "outputs": [
    {
     "data": {
      "image/png": "[encoded data removed]",
      "text/plain": [
       "<Figure size 360x360 with 1 Axes>"
      ]
     },
     "metadata": {
      "needs_background": "light"
     },
     "output_type": "display_data"
    }
   ],
   "source": [
    "g = sns.catplot(x=\"Genre\", y=\"Mean Gross\", kind=\"bar\", palette=\"ch:.25\", data= top5GrossingGenres);\n",
    "g.set_xticklabels(rotation = 90)\n",
    "#plt.set_title(\"Mean Gross by Genre\")\n",
    "plt.show()"
   ]
  },
  {
   "cell_type": "code",
   "execution_count": null,
   "metadata": {},
   "outputs": [],
   "source": [
    "ww"
   ]
  }
 ],
 "metadata": {
  "kernelspec": {
   "display_name": "Python 3",
   "language": "python",
   "name": "python3"
  },
  "language_info": {
   "codemirror_mode": {
    "name": "ipython",
    "version": 3
   },
   "file_extension": ".py",
   "mimetype": "text/x-python",
   "name": "python",
   "nbconvert_exporter": "python",
   "pygments_lexer": "ipython3",
   "version": "3.7.6"
  }
 },
 "nbformat": 4,
 "nbformat_minor": 4
}
